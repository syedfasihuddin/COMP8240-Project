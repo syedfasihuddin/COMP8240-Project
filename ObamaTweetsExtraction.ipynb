{
 "cells": [
  {
   "cell_type": "markdown",
   "metadata": {},
   "source": [
    "# Tweets Collection for new data"
   ]
  },
  {
   "cell_type": "code",
   "execution_count": 4,
   "metadata": {},
   "outputs": [],
   "source": [
    "import tweepy\n",
    "from tweepy import OAuthHandler\n",
    "import json\n",
    "import datetime\n",
    "import time\n",
    "import pandas as pd"
   ]
  },
  {
   "cell_type": "code",
   "execution_count": 5,
   "metadata": {},
   "outputs": [
    {
     "name": "stdout",
     "output_type": "stream",
     "text": [
      "Full name:  Barack Obama\n",
      "Username on twitter:  BarackObama\n"
     ]
    }
   ],
   "source": [
    "consumer_key = 'kEXJpspv25de4PcNzQSnV6DFv'\n",
    "consumer_secret = 'RiS6zl8Yaof9wWrh3r6Wnpe32iiHt7s7xifiDRaTqwrv7Ga3l4'\n",
    "access_token = '1171263190711201793-ccfz7EHQC61po3048aEGq1Rsp7gDm7'\n",
    "access_secret = 'RWDrwkt5YNVZReXCALnl1ILxbuM5bbl6QHewgzV2rsVji'\n",
    "\n",
    " \n",
    "auth = OAuthHandler(consumer_key, consumer_secret)\n",
    "auth.set_access_token(access_token, access_secret)\n",
    "api = tweepy.API(auth)\n",
    "\n",
    "user = api.get_user('BarackObama')\n",
    "print (\"Full name: \", user.name)\n",
    "print (\"Username on twitter: \", user.screen_name)"
   ]
  },
  {
   "cell_type": "code",
   "execution_count": 7,
   "metadata": {},
   "outputs": [
    {
     "name": "stdout",
     "output_type": "stream",
     "text": [
      "Proud to endorse an outstanding group of Virginia Democrats in Tuesday’s election—candidates who’ll not only advanc… https://t.co/s7lkCMYXu7\n",
      "Today’s the first day of open enrollment on https://t.co/ob1Ynoesod, and high-quality coverage might be more afford… https://t.co/lWds9MEdZv\n",
      "Congrats to the World Champion @Nationals and their fans! A great group that always showed up when it counted and w… https://t.co/bx1Cg6Jvcz\n",
      "RT @ObamaFoundation: Watch live: @BarackObama is about to take the stage at the #ObamaSummit. Tune in now at https://t.co/aGSLPSV4Fe for hi…\n",
      "RT @ObamaFoundation: Take a tour with @BarackObama through the future Obama Presidential Center on Chicago’s South Side. https://t.co/n5n6s…\n",
      "Glad to be back in Chicago for the @ObamaFoundation Summit. It’s where I first learned to organize—and where I met… https://t.co/umAF2H7vjZ\n",
      ".@SamanthaJPower is a Pulitzer winner, an incredible writer, and a great friend. Her memoir, The Education of an Id… https://t.co/rsVrBUOSIJ\n",
      "Michelle and I are heartbroken over the passing of our friend, Elijah Cummings. May his example inspire more Americ… https://t.co/Km5EWFuGaw\n",
      "I was proud to work with Justin Trudeau as President. He's a hard-working, effective leader who takes on big issues… https://t.co/nZdSmWcpgP\n",
      "In December, Michelle and I will head to Malaysia for the first @ObamaFoundation Leaders: Asia-Pacific gathering. T… https://t.co/sDWtdRPHCQ\n",
      "Yesterday, marathoner Eliud Kipchoge became the first ever to break two hours. Today in Chicago, Brigid Kosgei set… https://t.co/xbTHZbEo1K\n",
      "RT @MichelleObama: Happy #DayoftheGirl! I’m excited to share that in December, I’ll be visiting Vietnam to meet some of the inspiring girls…\n",
      "Congrats to the @WashMystics on a gutsy, first-ever championship! A great team performance when it counted. If folk… https://t.co/6M93KCXeVW\n",
      "Here’s an interesting read—a reminder that behind every opinion lies a human being with real experiences and a stor… https://t.co/r7MX8F6tsX\n",
      "As President, I leaned on @AmbassadorRice’s experience, expertise, and willingness to tell me what I needed to hear… https://t.co/oWx2obfDF5\n",
      "Like the Beatles said: It’s getting better all the time. Thanks, babe, for 27 amazing years! https://t.co/mImRqIYn1R\n",
      "On National Voter Registration Day, it’s up to us as citizens to make sure everyone we know can make their voices h… https://t.co/rYRdykNARc\n",
      "One challenge will define the future for today’s young generation more dramatically than any other: Climate change.… https://t.co/MYeQbArWwu\n",
      "Just 16, @GretaThunberg is already one of our planet’s greatest advocates. Recognizing that her generation will bea… https://t.co/mrXtVgE3aN\n",
      "That’s what Americans do when others are in need – we help. We give. We inspire. Want to make a difference? There a… https://t.co/2mdo9GlaLl\n",
      "Jermaine Bell is just six years old, but when he saw people in need, he took the money he’d been saving for a trip… https://t.co/W4LaUUEYe6\n",
      "Bahamian families and communities face a long recovery from Hurricane Dorian. And Americans are reaching out to hel… https://t.co/9AbyqU5gcf\n",
      "As we remember those we lost on 9/11, we also remember the spirit of unity and togetherness that defined the weeks… https://t.co/vVlN1ckjQg\n",
      "Marca had a remarkable way of bringing out the best within us. For me, she was a trusted voice and a persistent, bu… https://t.co/NKXEI9izsi\n",
      "Yesterday’s ruling is a big win for North Carolina—and for all of us. Voters should choose their representatives, n… https://t.co/nQ1T3U3eBU\n",
      "Saw this story of a young person doing great work and wanted to share it—keep it up, David! That’s some creative or… https://t.co/LI2hQ3Tovf\n",
      "Training is at the heart of organizing. It’s why I’ve always made it a priority – from my 2008 campaign until now.… https://t.co/KMSmanB2OK\n",
      "With summer winding down, here’s a sampling of what Michelle and I have been listening to — some new, some old, som… https://t.co/f41MILYSBr\n",
      "A good story gives you the chance to better understand someone else’s life. It can help you find common ground. And… https://t.co/cDU3IJN1nq\n",
      "Toni Morrison was a national treasure, as good a storyteller, as captivating, in person as she was on the page. Her… https://t.co/859oLQ94Ta\n",
      "Until all of us stand up and insist on holding public officials accountable for changing our gun laws, these traged… https://t.co/QO6QOjix7M\n",
      "https://t.co/nNOVtQ50O4\n",
      "The families of our wounded warriors don't often get a lot of fanfare, but they're serving and sacrificing right al… https://t.co/dNQIaG7WAA\n",
      "Recent court decisions make it clear that the change we need to restore our democracy has to come from the ground u… https://t.co/iAsd5KCAdM\n",
      "Here’s a worthwhile Sunday read: “…nothing should temper partisanship more than an awareness that somewhere, on som… https://t.co/XSbZhrhvcT\n",
      "I’ve always been proud of what this team accomplished during my administration. But more than what we did, I’m prou… https://t.co/b7pswCxgE1\n",
      "RT @ObamaFoundation: Leaders: Africa may have ended, but 200 inspiring #ObamaLeaders returned to their homes with the new connections and f…\n",
      "Economist Raj Chetty is not only identifying the decline in opportunity we’ve seen in recent decades—but trying to… https://t.co/aVvBp3i2Ey\n",
      "Here are a couple of articles backed by new research that are worth taking a look at: A new study on the Medicaid e… https://t.co/ZxoqspJKRA\n",
      "In America, we don’t fear the future, we embrace it. 50 years ago, that spirit took us to the moon. Today, it’s emb… https://t.co/dWqbdzNq83\n",
      "RT @MichelleObama: What truly makes our country great is its diversity. I’ve seen that beauty in so many ways over the years. Whether we ar…\n",
      "#MandelaDay reminds us that when things feel dark, confusing, or impossible—take a look back at his writings. There… https://t.co/dQ4IzuzBNQ\n",
      "I have a good feeling about these Chicago @UrbanAlliance interns. Thanks for letting me spend yesterday afternoon w… https://t.co/FF40nHbs63\n",
      "The @ObamaFoundation is helping a new generation of leaders make their mark, and there’s an extraordinary group gat… https://t.co/azU3MXDYlN\n",
      "Proud to rep America’s best team! Congrats @USWNT and thanks for being such a strong inspiration for women and girl… https://t.co/L8OY8yP0Mi\n",
      "Yes! Fourth star. Back to back. Congrats to the record breakers on the @USWNT, an incredible team that’s always pus… https://t.co/2wYRZDpcaO\n",
      "RT @MichelleObama: Good luck to the @USWNT! You all are some of the most fearless, powerful, awe-inspiring athletes I’ve ever seen—and toge…\n",
      "Happy Fourth of July, everybody! This is always a great day in the Obama family: a chance to celebrate America—and… https://t.co/xLyTsgcyjO\n",
      "I’m admittedly biased, but this article gibes with my experience about what all of us might take away from the “alo… https://t.co/euYQ9XepeG\n",
      "Congrats to the USWNT! A great performance from a great team—looking forward to Sunday. #OneNationOneTeam\n",
      "No one changes the world alone. That’s why the @ObamaFoundation is connecting emerging leaders from South Africa to… https://t.co/nG2Rp9OjIw\n",
      "The most important job in our democracy is citizen. If you’re tired of politicians manipulating maps and ignoring t… https://t.co/FM4pOBftrt\n",
      "50 years ago, history was written at the Stonewall Inn when New York's LGBT community stood up, spoke out, and star… https://t.co/N6TIkkQHEI\n",
      "What a gift to come across this interview with Julia “Hurricane” Hawkins. I’m as grateful for her life advice as I… https://t.co/zN8buKkYqL\n",
      "Now we’re talking! Congrats to Team USA for moving on, and thanks for continuing to make us all proud. #USA https://t.co/DVkKBfU6wA\n",
      "On Juneteenth, we celebrate our capacity to make real the promise of our founding, that thing inside each of us tha… https://t.co/bYmILjSq9H\n",
      "Outside the Oval Office, I kept a painting of a small crowd huddled around a pocketwatch, waiting for the moment th… https://t.co/m8dljaM5Zk\n",
      "This is worth a read: a thought-provoking reminder that education reform isn’t a cure-all. As a supporter of educat… https://t.co/sP7Q1oJSl5\n",
      "Yes we can, Greta. I’m hopeful because of you and all the young people who are fighting to protect the planet. Keep… https://t.co/trOVzMi4Nr\n",
      "Happy Father’s Day to Charles, one of our @ObamaFoundation Fellows, and all the dads at Fathers’ Uplift. Today, we’… https://t.co/l5IrsoIuop\n",
      "RT @ObamaFoundation: These young people want to take action and make a change. Through the #CommunityLeadership Corps in Chicago and Hartfo…\n",
      "The @USWNT is something to smile about. It was great to celebrate with them back in 2015 and I'm excited to root th… https://t.co/WMEvpsFGin\n",
      "Six years ago, David Ortiz's spirit and resolve helped us all begin to heal from the Boston Marathon bombing. Today… https://t.co/u3QgBv80aK\n",
      "Last week, it was Virginia Beach. But day after day and year after year, too many families and communities are shat… https://t.co/oscI8f9xFv\n",
      "RT @ObamaFoundation: Courage is contagious. Watch some of the courageous students who won our first-ever Civic Action Recognition Awards, h…\n",
      "You've got a lot to be proud of, Jiwandeep. Thanks for everything you do to make this country a little more equal.… https://t.co/qw8I8io4pc\n",
      "What a life. American history has always been driven by visionaries like Leah Chase—and all the men and women who w… https://t.co/XHnhWiluN2\n",
      "A story worth sharing: Twelve years ago, Brian joined my first presidential campaign. Two years ago, he was diagnos… https://t.co/2uf6ozOukh\n",
      "Exciting to see the faces of Colombia's future at an @ObamaFoundation roundtable with young leaders in Bogotá. Thei… https://t.co/FniC2X3hM4\n",
      "On Memorial Day, we remember all those who gave everything for something greater than themselves. It's up to us to… https://t.co/4m5HbHFzcb\n",
      "Great to get out there and take a few cuts at the plate yesterday—I had a blast with all these extraordinary young… https://t.co/TQ7O6BVMSJ\n",
      "RT @ObamaFoundation: Congratulations on the inauguration of @ChicagosMayor Lori Lightfoot, Treasurer Melissa Conyears-Ervin, @ChiCityClerk…\n",
      "Here’s a great story: While we’ve still got a lot of work to do to make college affordable for everyone, that didn’… https://t.co/eW9usqYzu1\n",
      "Happy Mother's Day to the most caring, brilliant, funny, and grounded woman I know—a perfect role model not just fo… https://t.co/Tpro3oBzyC\n",
      "As part of the @ObamaFoundation, moms like Dr. Mwansa Ketty Lubeya are answering the call for change—and raising th… https://t.co/Za7hYarUQW\n",
      "RT @MichelleObama: Congratulations, Meghan and Harry! Barack and I are so thrilled for both of you and can't wait to meet him. #RoyalBaby h…\n",
      "Happy #CollegeSigningDay, everybody! I'm proud of every student out there who's taking the next step in their educa… https://t.co/djtqPri6U5\n",
      "Condolences to the family of John Singleton. His seminal work, Boyz n the Hood, remains one of the most searing, lo… https://t.co/KP8bValVK7\n",
      "Congratulations to the new class of @ObamaFoundation Fellows! Their work in every region of the globe is already ma… https://t.co/qB2Qxp8bB9\n",
      "For thirty-six years, Richard Lugar proved that pragmatism and decency work—not only in Washington but all over the… https://t.co/fbLSYFY3A6\n",
      "Dominique’s story is a reminder to us that where you’re from shouldn’t define what you can achieve. I’m proud of he… https://t.co/4w6Q5E3tA8\n",
      "This generation of climate activists is tired of inaction, and they've caught the attention of leaders all over the… https://t.co/i8AM4miXL4\n",
      "And in the U.S., 13-year old @AlexandriaV2005 of New York, 13-year old @havenruthie of Denver, and 16-year old… https://t.co/aS6adg4Kh7\n",
      "I met 23-year-old @luisamneubauer in Berlin earlier this month. Luisa, the organizer behind the student movement in… https://t.co/GCaEtCcCkI\n",
      "They're people like 16-year-old @GretaThunberg, whose protests at Swedish parliament sparked a movement. Inspired b… https://t.co/vJjEgoUetO\n",
      "Young people all over the world are leading the way in the fight to protect our planet because they know their futu… https://t.co/D1XZ9f8Zck\n",
      "To all who celebrate today, happy Easter from our family to yours! On this day of rebirth and renewal, let’s recomm… https://t.co/Xw82Y9kbPr\n",
      "The attacks on tourists and Easter worshippers in Sri Lanka are an attack on humanity. On a day devoted to love, re… https://t.co/pVpa7j9GKm\n",
      "Notre Dame is one of the world’s great treasures, and we’re thinking of the people of France in your time of grief.… https://t.co/aXv1azpmof\n",
      "Congratulations, Tiger! To come back and win the Masters after all the highs and lows is a testament to excellence, grit, and determination.\n",
      "Another good story worth sharing: From one \"kid from Akron\" to a new generation of Akron kids, some remarkable earl… https://t.co/QH4JkJjqf5\n",
      "From a big NBA fan, congrats to future Hall of Famers Dwyane Wade and Dirk Nowitzki—not just all-time greats but class acts, too.\n",
      "In just a few minutes, I’m taking the stage at the @ObamaFoundation Town Hall Europe for a conversation about how t… https://t.co/N3FBPQfn47\n",
      "A voice everybody should hear. https://t.co/0u7HUlQ8id\n",
      "Here’s a story about people doing good that's worth sharing: @BradPaisley and his wife @Kimwilliamspais saw food in… https://t.co/kMBFR3xzAA\n",
      "Great to see Chicago’s historic mayoral race between two highly qualified candidates. Congrats to our next mayor, L… https://t.co/MGW1qYdXeM\n",
      "Valerie is one of my oldest friends and advisors – she was by my side when I first decided to run for office and fo… https://t.co/VQKw3mhOPy\n",
      "Last night I had the chance to meet with first-term Democrats in Congress—it's a young, diverse class, stocked with… https://t.co/BIiEeE5aSS\n",
      "Just in the nick of time: My brackets have never been my one shining moment, but here we go again. You can check ou… https://t.co/gZFlHQamkn\n",
      "And here are some ways to help cyclone victims in Mozambique, Malawi, and Zimbabwe: https://t.co/if8HZBtWBH\n"
     ]
    }
   ],
   "source": [
    "tweets = api.user_timeline(screen_name = 'BarackObama', count = 100)\n",
    "files_of_tweets = 'BarackObama.json'\n",
    "with open(files_of_tweets, 'w') as outfile:\n",
    "    for tweet in tweets:\n",
    "        json.dump(tweet._json, outfile, sort_keys=True)\n",
    "        outfile.write('\\n')\n",
    "        print(tweet.text)"
   ]
  },
  {
   "cell_type": "code",
   "execution_count": 11,
   "metadata": {},
   "outputs": [],
   "source": [
    "BarackObama = pd.read_json(r'C:\\Users\\Fasihuddin\\Desktop\\master\\ADS\\Project\\BarackObama.json', lines=True)\n",
    "BarackObama = BarackObama[['text']]\n",
    "BarackObama.to_csv('BarackObama.csv', index=False)"
   ]
  }
 ],
 "metadata": {
  "kernelspec": {
   "display_name": "Python 3",
   "language": "python",
   "name": "python3"
  },
  "language_info": {
   "codemirror_mode": {
    "name": "ipython",
    "version": 3
   },
   "file_extension": ".py",
   "mimetype": "text/x-python",
   "name": "python",
   "nbconvert_exporter": "python",
   "pygments_lexer": "ipython3",
   "version": "3.7.4"
  }
 },
 "nbformat": 4,
 "nbformat_minor": 2
}
